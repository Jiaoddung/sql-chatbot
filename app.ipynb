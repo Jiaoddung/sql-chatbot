{
 "cells": [
  {
   "cell_type": "code",
   "execution_count": 1,
   "metadata": {},
   "outputs": [
    {
     "name": "stdout",
     "output_type": "stream",
     "text": [
      "Requirement already satisfied: langchain_ollama in ./new_env/lib/python3.9/site-packages (0.1.1)\n",
      "Requirement already satisfied: langchain in ./new_env/lib/python3.9/site-packages (0.2.14)\n",
      "Requirement already satisfied: langchain_community in ./new_env/lib/python3.9/site-packages (0.2.12)\n",
      "Requirement already satisfied: pyodbc in ./new_env/lib/python3.9/site-packages (5.1.0)\n",
      "Requirement already satisfied: mssql in ./new_env/lib/python3.9/site-packages (1.0.1)\n",
      "Requirement already satisfied: langchain_huggingface in ./new_env/lib/python3.9/site-packages (0.0.3)\n",
      "Requirement already satisfied: faiss-cpu in ./new_env/lib/python3.9/site-packages (1.8.0.post1)\n",
      "Requirement already satisfied: langchain-core<0.3.0,>=0.2.20 in ./new_env/lib/python3.9/site-packages (from langchain_ollama) (0.2.34)\n",
      "Requirement already satisfied: ollama<1,>=0.3.0 in ./new_env/lib/python3.9/site-packages (from langchain_ollama) (0.3.1)\n",
      "Requirement already satisfied: PyYAML>=5.3 in ./new_env/lib/python3.9/site-packages (from langchain) (6.0.2)\n",
      "Requirement already satisfied: SQLAlchemy<3,>=1.4 in ./new_env/lib/python3.9/site-packages (from langchain) (2.0.32)\n",
      "Requirement already satisfied: aiohttp<4.0.0,>=3.8.3 in ./new_env/lib/python3.9/site-packages (from langchain) (3.10.5)\n",
      "Requirement already satisfied: async-timeout<5.0.0,>=4.0.0 in ./new_env/lib/python3.9/site-packages (from langchain) (4.0.3)\n",
      "Requirement already satisfied: langchain-text-splitters<0.3.0,>=0.2.0 in ./new_env/lib/python3.9/site-packages (from langchain) (0.2.2)\n",
      "Requirement already satisfied: langsmith<0.2.0,>=0.1.17 in ./new_env/lib/python3.9/site-packages (from langchain) (0.1.101)\n",
      "Requirement already satisfied: numpy<2,>=1 in ./new_env/lib/python3.9/site-packages (from langchain) (1.26.4)\n",
      "Requirement already satisfied: pydantic<3,>=1 in ./new_env/lib/python3.9/site-packages (from langchain) (2.8.2)\n",
      "Requirement already satisfied: requests<3,>=2 in ./new_env/lib/python3.9/site-packages (from langchain) (2.32.3)\n",
      "Requirement already satisfied: tenacity!=8.4.0,<9.0.0,>=8.1.0 in ./new_env/lib/python3.9/site-packages (from langchain) (8.5.0)\n",
      "Requirement already satisfied: dataclasses-json<0.7,>=0.5.7 in ./new_env/lib/python3.9/site-packages (from langchain_community) (0.6.7)\n",
      "Requirement already satisfied: huggingface-hub>=0.23.0 in ./new_env/lib/python3.9/site-packages (from langchain_huggingface) (0.24.6)\n",
      "Requirement already satisfied: sentence-transformers>=2.6.0 in ./new_env/lib/python3.9/site-packages (from langchain_huggingface) (3.0.1)\n",
      "Requirement already satisfied: tokenizers>=0.19.1 in ./new_env/lib/python3.9/site-packages (from langchain_huggingface) (0.19.1)\n",
      "Requirement already satisfied: transformers>=4.39.0 in ./new_env/lib/python3.9/site-packages (from langchain_huggingface) (4.44.1)\n",
      "Requirement already satisfied: packaging in ./new_env/lib/python3.9/site-packages (from faiss-cpu) (24.1)\n",
      "Requirement already satisfied: aiohappyeyeballs>=2.3.0 in ./new_env/lib/python3.9/site-packages (from aiohttp<4.0.0,>=3.8.3->langchain) (2.4.0)\n",
      "Requirement already satisfied: aiosignal>=1.1.2 in ./new_env/lib/python3.9/site-packages (from aiohttp<4.0.0,>=3.8.3->langchain) (1.3.1)\n",
      "Requirement already satisfied: attrs>=17.3.0 in ./new_env/lib/python3.9/site-packages (from aiohttp<4.0.0,>=3.8.3->langchain) (24.2.0)\n",
      "Requirement already satisfied: frozenlist>=1.1.1 in ./new_env/lib/python3.9/site-packages (from aiohttp<4.0.0,>=3.8.3->langchain) (1.4.1)\n",
      "Requirement already satisfied: multidict<7.0,>=4.5 in ./new_env/lib/python3.9/site-packages (from aiohttp<4.0.0,>=3.8.3->langchain) (6.0.5)\n",
      "Requirement already satisfied: yarl<2.0,>=1.0 in ./new_env/lib/python3.9/site-packages (from aiohttp<4.0.0,>=3.8.3->langchain) (1.9.4)\n",
      "Requirement already satisfied: marshmallow<4.0.0,>=3.18.0 in ./new_env/lib/python3.9/site-packages (from dataclasses-json<0.7,>=0.5.7->langchain_community) (3.22.0)\n",
      "Requirement already satisfied: typing-inspect<1,>=0.4.0 in ./new_env/lib/python3.9/site-packages (from dataclasses-json<0.7,>=0.5.7->langchain_community) (0.9.0)\n",
      "Requirement already satisfied: filelock in ./new_env/lib/python3.9/site-packages (from huggingface-hub>=0.23.0->langchain_huggingface) (3.15.4)\n",
      "Requirement already satisfied: fsspec>=2023.5.0 in ./new_env/lib/python3.9/site-packages (from huggingface-hub>=0.23.0->langchain_huggingface) (2024.6.1)\n",
      "Requirement already satisfied: tqdm>=4.42.1 in ./new_env/lib/python3.9/site-packages (from huggingface-hub>=0.23.0->langchain_huggingface) (4.66.5)\n",
      "Requirement already satisfied: typing-extensions>=3.7.4.3 in ./new_env/lib/python3.9/site-packages (from huggingface-hub>=0.23.0->langchain_huggingface) (4.12.2)\n",
      "Requirement already satisfied: jsonpatch<2.0,>=1.33 in ./new_env/lib/python3.9/site-packages (from langchain-core<0.3.0,>=0.2.20->langchain_ollama) (1.33)\n",
      "Requirement already satisfied: httpx<1,>=0.23.0 in ./new_env/lib/python3.9/site-packages (from langsmith<0.2.0,>=0.1.17->langchain) (0.27.0)\n",
      "Requirement already satisfied: orjson<4.0.0,>=3.9.14 in ./new_env/lib/python3.9/site-packages (from langsmith<0.2.0,>=0.1.17->langchain) (3.10.7)\n",
      "Requirement already satisfied: annotated-types>=0.4.0 in ./new_env/lib/python3.9/site-packages (from pydantic<3,>=1->langchain) (0.7.0)\n",
      "Requirement already satisfied: pydantic-core==2.20.1 in ./new_env/lib/python3.9/site-packages (from pydantic<3,>=1->langchain) (2.20.1)\n",
      "Requirement already satisfied: charset-normalizer<4,>=2 in ./new_env/lib/python3.9/site-packages (from requests<3,>=2->langchain) (3.3.2)\n",
      "Requirement already satisfied: idna<4,>=2.5 in ./new_env/lib/python3.9/site-packages (from requests<3,>=2->langchain) (3.7)\n",
      "Requirement already satisfied: urllib3<3,>=1.21.1 in ./new_env/lib/python3.9/site-packages (from requests<3,>=2->langchain) (2.2.2)\n",
      "Requirement already satisfied: certifi>=2017.4.17 in ./new_env/lib/python3.9/site-packages (from requests<3,>=2->langchain) (2024.7.4)\n",
      "Requirement already satisfied: torch>=1.11.0 in ./new_env/lib/python3.9/site-packages (from sentence-transformers>=2.6.0->langchain_huggingface) (2.4.0)\n",
      "Requirement already satisfied: scikit-learn in ./new_env/lib/python3.9/site-packages (from sentence-transformers>=2.6.0->langchain_huggingface) (1.5.1)\n",
      "Requirement already satisfied: scipy in ./new_env/lib/python3.9/site-packages (from sentence-transformers>=2.6.0->langchain_huggingface) (1.13.1)\n",
      "Requirement already satisfied: Pillow in ./new_env/lib/python3.9/site-packages (from sentence-transformers>=2.6.0->langchain_huggingface) (10.4.0)\n",
      "Requirement already satisfied: regex!=2019.12.17 in ./new_env/lib/python3.9/site-packages (from transformers>=4.39.0->langchain_huggingface) (2024.7.24)\n",
      "Requirement already satisfied: safetensors>=0.4.1 in ./new_env/lib/python3.9/site-packages (from transformers>=4.39.0->langchain_huggingface) (0.4.4)\n",
      "Requirement already satisfied: anyio in ./new_env/lib/python3.9/site-packages (from httpx<1,>=0.23.0->langsmith<0.2.0,>=0.1.17->langchain) (4.4.0)\n",
      "Requirement already satisfied: httpcore==1.* in ./new_env/lib/python3.9/site-packages (from httpx<1,>=0.23.0->langsmith<0.2.0,>=0.1.17->langchain) (1.0.5)\n",
      "Requirement already satisfied: sniffio in ./new_env/lib/python3.9/site-packages (from httpx<1,>=0.23.0->langsmith<0.2.0,>=0.1.17->langchain) (1.3.1)\n",
      "Requirement already satisfied: h11<0.15,>=0.13 in ./new_env/lib/python3.9/site-packages (from httpcore==1.*->httpx<1,>=0.23.0->langsmith<0.2.0,>=0.1.17->langchain) (0.14.0)\n",
      "Requirement already satisfied: jsonpointer>=1.9 in ./new_env/lib/python3.9/site-packages (from jsonpatch<2.0,>=1.33->langchain-core<0.3.0,>=0.2.20->langchain_ollama) (3.0.0)\n",
      "Requirement already satisfied: sympy in ./new_env/lib/python3.9/site-packages (from torch>=1.11.0->sentence-transformers>=2.6.0->langchain_huggingface) (1.13.2)\n",
      "Requirement already satisfied: networkx in ./new_env/lib/python3.9/site-packages (from torch>=1.11.0->sentence-transformers>=2.6.0->langchain_huggingface) (3.2.1)\n",
      "Requirement already satisfied: jinja2 in ./new_env/lib/python3.9/site-packages (from torch>=1.11.0->sentence-transformers>=2.6.0->langchain_huggingface) (3.1.4)\n",
      "Requirement already satisfied: mypy-extensions>=0.3.0 in ./new_env/lib/python3.9/site-packages (from typing-inspect<1,>=0.4.0->dataclasses-json<0.7,>=0.5.7->langchain_community) (1.0.0)\n",
      "Requirement already satisfied: joblib>=1.2.0 in ./new_env/lib/python3.9/site-packages (from scikit-learn->sentence-transformers>=2.6.0->langchain_huggingface) (1.4.2)\n",
      "Requirement already satisfied: threadpoolctl>=3.1.0 in ./new_env/lib/python3.9/site-packages (from scikit-learn->sentence-transformers>=2.6.0->langchain_huggingface) (3.5.0)\n",
      "Requirement already satisfied: exceptiongroup>=1.0.2 in ./new_env/lib/python3.9/site-packages (from anyio->httpx<1,>=0.23.0->langsmith<0.2.0,>=0.1.17->langchain) (1.2.2)\n",
      "Requirement already satisfied: MarkupSafe>=2.0 in ./new_env/lib/python3.9/site-packages (from jinja2->torch>=1.11.0->sentence-transformers>=2.6.0->langchain_huggingface) (2.1.5)\n",
      "Requirement already satisfied: mpmath<1.4,>=1.1.0 in ./new_env/lib/python3.9/site-packages (from sympy->torch>=1.11.0->sentence-transformers>=2.6.0->langchain_huggingface) (1.3.0)\n",
      "Note: you may need to restart the kernel to use updated packages.\n"
     ]
    }
   ],
   "source": [
    "# Install necessary packages\n",
    "%pip install langchain_ollama langchain langchain_community pyodbc mssql langchain_huggingface faiss-cpu"
   ]
  },
  {
   "cell_type": "code",
   "execution_count": 2,
   "metadata": {},
   "outputs": [
    {
     "name": "stderr",
     "output_type": "stream",
     "text": [
      "/Users/yj/Desktop/CapstoneProject/new_env/lib/python3.9/site-packages/tqdm/auto.py:21: TqdmWarning: IProgress not found. Please update jupyter and ipywidgets. See https://ipywidgets.readthedocs.io/en/stable/user_install.html\n",
      "  from .autonotebook import tqdm as notebook_tqdm\n"
     ]
    }
   ],
   "source": [
    "import os\n",
    "import sqlite3\n",
    "import uuid\n",
    "import gradio as gr\n",
    "from langchain_ollama import ChatOllama\n",
    "from langchain_community.utilities import SQLDatabase\n",
    "from langchain_community.tools.sql_database.tool import QuerySQLDataBaseTool, InfoSQLDatabaseTool, ListSQLDatabaseTool, QuerySQLCheckerTool\n",
    "from langchain_huggingface import HuggingFaceEmbeddings\n",
    "from langchain_community.vectorstores import FAISS\n",
    "from langchain_core.example_selectors import SemanticSimilarityExampleSelector\n",
    "from langchain_core.prompts import FewShotPromptTemplate, PromptTemplate, ChatPromptTemplate, SystemMessagePromptTemplate"
   ]
  },
  {
   "cell_type": "code",
   "execution_count": 4,
   "metadata": {},
   "outputs": [],
   "source": [
    "# Set up environment variables for LangChain API and other configurations\n",
    "langsmith_api_key = os.environ.get(\"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\")\n",
    "os.environ[\"LANGCHAIN_TRACING_V2\"] = \"true\"\n",
    "os.environ[\"LANGCHAIN_PROJECT\"] = \"Local SQL Agent\"\n",
    "os.environ[\"LANGCHAIN_ENDPOINT\"] = \"https://api.smith.langchain.com\"\n",
    "os.environ[\"LANGCHAIN_API_KEY\"] = \"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\"\n",
    "os.environ[\"TOKENIZERS_PARALLELISM\"] = \"false\""
   ]
  },
  {
   "cell_type": "code",
   "execution_count": 5,
   "metadata": {},
   "outputs": [],
   "source": [
    "# Initialize the LLM model\n",
    "llm = ChatOllama(model=\"llama3.1:8b-instruct-q4_0\")"
   ]
  },
  {
   "cell_type": "code",
   "execution_count": 6,
   "metadata": {},
   "outputs": [
    {
     "name": "stdout",
     "output_type": "stream",
     "text": [
      "Tables in the database: [('Album',), ('Artist',), ('Customer',), ('Employee',), ('Genre',), ('Invoice',), ('InvoiceLine',), ('MediaType',), ('Playlist',), ('PlaylistTrack',), ('Track',)]\n"
     ]
    }
   ],
   "source": [
    "# Step 1: SQLite Setup and SQL Script Execution\n",
    "def setup_sqlite_db(db_path='chinook.db', sql_script_path='chinook.sql'):\n",
    "    conn = sqlite3.connect(db_path)\n",
    "    with open(sql_script_path, 'r') as file:\n",
    "        sql_script = file.read()\n",
    "    cursor = conn.cursor()\n",
    "    cursor.executescript(sql_script)\n",
    "    conn.commit()\n",
    "    cursor.execute(\"SELECT name FROM sqlite_master WHERE type='table';\")\n",
    "    tables = cursor.fetchall()\n",
    "    print(\"Tables in the database:\", tables)\n",
    "    return conn\n",
    "\n",
    "conn = setup_sqlite_db()"
   ]
  },
  {
   "cell_type": "code",
   "execution_count": 7,
   "metadata": {},
   "outputs": [],
   "source": [
    "# Step 2: Create the SQLDatabase object for LangChain tools\n",
    "database_path = 'chinook.db'\n",
    "connection_url = f\"sqlite:///{database_path}\"\n",
    "db = SQLDatabase.from_uri(connection_url, sample_rows_in_table_info=3)"
   ]
  },
  {
   "cell_type": "code",
   "execution_count": 8,
   "metadata": {},
   "outputs": [
    {
     "name": "stdout",
     "output_type": "stream",
     "text": [
      "10\n"
     ]
    }
   ],
   "source": [
    "# Example Queries\n",
    "examples = [\n",
    "    { \"input\": \"List all artists.\", \"query\": \"SELECT * FROM Artist;\" },\n",
    "    { \"input\": \"Find all albums for the artist 'AC/DC'.\", \"query\": \"SELECT * FROM Album WHERE ArtistId = (SELECT ArtistId FROM Artist WHERE Name = 'AC/DC');\" },\n",
    "    { \"input\": \"List all tracks in the 'Rock' genre.\", \"query\": \"SELECT * FROM Track WHERE GenreId = (SELECT GenreId FROM Genre WHERE Name = 'Rock');\" },\n",
    "    { \"input\": \"Find the total duration of all tracks.\", \"query\": \"SELECT SUM(Milliseconds) FROM Track;\" },\n",
    "    { \"input\": \"List all customers from Canada.\", \"query\": \"SELECT * FROM Customer WHERE Country = 'Canada';\" },\n",
    "    { \"input\": \"How many tracks are there in the album with ID 5?\", \"query\": \"SELECT COUNT(*) FROM Track WHERE AlbumId = 5;\" },\n",
    "    { \"input\": \"Find the total number of Albums.\", \"query\": \"SELECT COUNT(DISTINCT AlbumId) FROM Album;\" },\n",
    "    { \"input\": \"List all tracks that are longer than 5 minutes.\", \"query\": \"SELECT * FROM Track WHERE Milliseconds > 300000;\" },\n",
    "    { \"input\": \"Who are the top 5 customers by total purchase?\", \"query\": \"SELECT CustomerId, SUM(Total) AS TotalPurchase FROM Invoice GROUP BY CustomerId ORDER BY TotalPurchase DESC LIMIT 5;\" },\n",
    "    { \"input\": \"How many employees are there?\", \"query\": \"SELECT COUNT(*) FROM Employee;\" },\n",
    "]\n",
    "print(len(examples))"
   ]
  },
  {
   "cell_type": "code",
   "execution_count": 9,
   "metadata": {},
   "outputs": [
    {
     "name": "stderr",
     "output_type": "stream",
     "text": [
      "/Users/yj/Desktop/CapstoneProject/new_env/lib/python3.9/site-packages/transformers/tokenization_utils_base.py:1601: FutureWarning: `clean_up_tokenization_spaces` was not set. It will be set to `True` by default. This behavior will be depracted in transformers v4.45, and will be then set to `False` by default. For more details check this issue: https://github.com/huggingface/transformers/issues/31884\n",
      "  warnings.warn(\n"
     ]
    }
   ],
   "source": [
    "# Set up Embeddings and Example Selector\n",
    "embeddings = HuggingFaceEmbeddings(model_name='sentence-transformers/all-MiniLM-L6-v2')\n",
    "example_selector = SemanticSimilarityExampleSelector.from_examples(\n",
    "    examples,\n",
    "    embeddings,\n",
    "    FAISS,\n",
    "    k=2,\n",
    "    input_keys=[\"input\"],\n",
    ")"
   ]
  },
  {
   "cell_type": "code",
   "execution_count": 10,
   "metadata": {},
   "outputs": [],
   "source": [
    "# Define System Prompt Template\n",
    "system_prefix = \"\"\"You are an agent designed to interact with the local SQLite database.\n",
    "Given an input question, create a syntactically correct SQL query to run, then look at the results of the query and return the answer.\n",
    "Unless the user specifies a specific number of examples they wish to obtain, always limit your query to at most 5 results.\n",
    "You can order the results by a relevant column to return the most interesting examples in the database.\n",
    "Never query for all the columns from a specific table, only ask for the relevant columns given the question.\n",
    "\n",
    "You have access to the following tools for interacting with the database:\n",
    "\n",
    "{tools}\n",
    "\n",
    "Use the following format:\n",
    "\n",
    "Question: the input question you must answer\n",
    "Thought: you should always think about what to do\n",
    "Action: the action to take, should be one of {tool_names}\n",
    "Action Input: the input to the action\n",
    "Observation: the result of the action\n",
    "... (this Thought/Action/Action Input/Observation can repeat N times)\n",
    "Thought: I now know the final answer\n",
    "Final Answer: the final answer to the original input question\n",
    "\n",
    "You MUST double check your query before executing it. If you get an error while executing a query, rewrite the query and try again.\n",
    "\n",
    "DO NOT make any DML statements (INSERT, UPDATE, DELETE, DROP etc.) to the database.\n",
    "\n",
    "If the question does not seem related to the database, just return \"I don't know\" as the answer.\n",
    "If you see you are repeating yourself, just provide final answer and exit.\n",
    "\n",
    "Here are some examples of user inputs and their corresponding SQL queries:\"\"\"\n"
   ]
  },
  {
   "cell_type": "code",
   "execution_count": 11,
   "metadata": {},
   "outputs": [],
   "source": [
    "# Dynamic Few-Shot Prompt Template\n",
    "dynamic_few_shot_prompt = FewShotPromptTemplate(\n",
    "    example_selector=example_selector,\n",
    "    example_prompt=PromptTemplate.from_template(\"User input: {input}\\nSQL query: {query}\"),\n",
    "    input_variables=[\"input\"],\n",
    "    prefix=system_prefix,\n",
    "    suffix=\"\"\n",
    ")\n",
    "\n",
    "# Full Chat Prompt Template\n",
    "full_prompt = ChatPromptTemplate.from_messages(\n",
    "    [\n",
    "        SystemMessagePromptTemplate(prompt=dynamic_few_shot_prompt),\n",
    "        (\"human\", \"{input}\"),\n",
    "        (\"system\", \"{agent_scratchpad}\"),\n",
    "    ]\n",
    ")"
   ]
  },
  {
   "cell_type": "code",
   "execution_count": 12,
   "metadata": {},
   "outputs": [],
   "source": [
    "# Step 3: Create Tools Using the SQLDatabase Object\n",
    "tools = [\n",
    "    QuerySQLDataBaseTool(db=db),\n",
    "    InfoSQLDatabaseTool(db=db),\n",
    "    ListSQLDatabaseTool(db=db),\n",
    "    QuerySQLCheckerTool(db=db, llm=llm)\n",
    "]\n",
    "\n",
    "# Utility Functions for SQL Query Handling\n",
    "def check_sql_query(query, max_retries=3):\n",
    "    for i in range(max_retries):\n",
    "        try:\n",
    "            print(f\"Attempt {i+1}: Checking SQL query...\")\n",
    "            action_output = QuerySQLCheckerTool(db=db, llm=llm).run(query)\n",
    "            if action_output:\n",
    "                print(\"Query check successful.\")\n",
    "                return action_output\n",
    "            else:\n",
    "                print(\"Query check failed. Retrying...\")\n",
    "        except Exception as e:\n",
    "            print(f\"Error on attempt {i+1}: {e}\")\n",
    "    print(\"Max retries reached. Exiting with error.\")\n",
    "    return None\n",
    "\n",
    "def execute_sql_query(query):\n",
    "    try:\n",
    "        print(\"Executing SQL query directly...\")\n",
    "        query_tool = QuerySQLDataBaseTool(db=db)\n",
    "        result = query_tool.run(query)\n",
    "        print(\"Query executed. Result:\", result)\n",
    "        return result\n",
    "    except Exception as e:\n",
    "        print(f\"Error during SQL query execution: {e}\")\n",
    "        return None\n",
    "\n",
    "def extract_sql_query_from_prompt(prompt_val):\n",
    "    for message in prompt_val.messages:\n",
    "        if \"SQL query:\" in message.content:\n",
    "            start_index = message.content.index(\"SQL query:\") + len(\"SQL query:\")\n",
    "            sql_query = message.content[start_index:].strip()\n",
    "            return sql_query\n",
    "    return None"
   ]
  },
  {
   "cell_type": "code",
   "execution_count": 14,
   "metadata": {},
   "outputs": [],
   "source": [
    "# Step 4: Process the Prompt and Generate Response\n",
    "def process_prompt(input_question):\n",
    "    print(\"Starting query processing...\")\n",
    "    prompt_val = full_prompt.invoke(\n",
    "        {\n",
    "            \"input\": input_question,\n",
    "            \"tool_names\": [tool.name for tool in tools],\n",
    "            \"tools\": [tool.name + \" - \" + tool.description.strip() for tool in tools],\n",
    "            \"agent_scratchpad\": [],\n",
    "        }\n",
    "    )\n",
    "    \n",
    "    print(prompt_val)\n",
    "\n",
    "    generated_query = extract_sql_query_from_prompt(prompt_val)\n",
    "    if generated_query:\n",
    "        checked_query = check_sql_query(generated_query)\n",
    "        if checked_query:\n",
    "            result = execute_sql_query(checked_query)\n",
    "            if result:\n",
    "                final_answer = result\n",
    "                print(\"Final Answer:\", final_answer)\n",
    "                return final_answer\n",
    "            else:\n",
    "                return \"Execution failed after validation.\"\n",
    "        else:\n",
    "            return \"Query check failed after multiple attempts. Aborting execution.\"\n",
    "    else:\n",
    "        return \"No valid SQL query generated by the prompt.\"\n",
    "    \n",
    "# Format the Output\n",
    "def format_output(data):\n",
    "    if not isinstance(data, list):\n",
    "        return str(data)\n",
    "    formatted_rows = [\"   \".join([str(item) if item is not None else '' for item in row]) for row in data]\n",
    "    return \"\\n\".join(formatted_rows)"
   ]
  },
  {
   "cell_type": "code",
   "execution_count": 16,
   "metadata": {},
   "outputs": [
    {
     "name": "stdout",
     "output_type": "stream",
     "text": [
      "Running on local URL:  http://127.0.0.1:7882\n",
      "Running on public URL: https://9e708f587b3a60c871.gradio.live\n",
      "\n",
      "This share link expires in 72 hours. For free permanent hosting and GPU upgrades, run `gradio deploy` from Terminal to deploy to Spaces (https://huggingface.co/spaces)\n"
     ]
    },
    {
     "data": {
      "text/html": [
       "<div><iframe src=\"https://9e708f587b3a60c871.gradio.live\" width=\"100%\" height=\"500\" allow=\"autoplay; camera; microphone; clipboard-read; clipboard-write;\" frameborder=\"0\" allowfullscreen></iframe></div>"
      ],
      "text/plain": [
       "<IPython.core.display.HTML object>"
      ]
     },
     "metadata": {},
     "output_type": "display_data"
    },
    {
     "data": {
      "text/plain": []
     },
     "execution_count": 16,
     "metadata": {},
     "output_type": "execute_result"
    },
    {
     "name": "stdout",
     "output_type": "stream",
     "text": [
      "Session ID:  00af11a9565942a3b05587375cc55ee9\n",
      "Received user input: Find the total number of Albums.\n",
      "Starting query processing...\n",
      "messages=[SystemMessage(content='You are an agent designed to interact with the local SQLite database.\\nGiven an input question, create a syntactically correct SQL query to run, then look at the results of the query and return the answer.\\nUnless the user specifies a specific number of examples they wish to obtain, always limit your query to at most 5 results.\\nYou can order the results by a relevant column to return the most interesting examples in the database.\\nNever query for all the columns from a specific table, only ask for the relevant columns given the question.\\n\\nYou have access to the following tools for interacting with the database:\\n\\n[\\'sql_db_query - Execute a SQL query against the database and get back the result..\\\\n    If the query is not correct, an error message will be returned.\\\\n    If an error is returned, rewrite the query, check the query, and try again.\\', \\'sql_db_schema - Get the schema and sample rows for the specified SQL tables.\\', \\'sql_db_list_tables - Input is an empty string, output is a comma-separated list of tables in the database.\\', \\'sql_db_query_checker - Use this tool to double check if your query is correct before executing it.\\\\n    Always use this tool before executing a query with sql_db_query!\\']\\n\\nUse the following format:\\n\\nQuestion: the input question you must answer\\nThought: you should always think about what to do\\nAction: the action to take, should be one of [\\'sql_db_query\\', \\'sql_db_schema\\', \\'sql_db_list_tables\\', \\'sql_db_query_checker\\']\\nAction Input: the input to the action\\nObservation: the result of the action\\n... (this Thought/Action/Action Input/Observation can repeat N times)\\nThought: I now know the final answer\\nFinal Answer: the final answer to the original input question\\n\\nYou MUST double check your query before executing it. If you get an error while executing a query, rewrite the query and try again.\\n\\nDO NOT make any DML statements (INSERT, UPDATE, DELETE, DROP etc.) to the database.\\n\\nIf the question does not seem related to the database, just return \"I don\\'t know\" as the answer.\\nIf you see you are repeating yourself, just provide final answer and exit.\\n\\nHere are some examples of user inputs and their corresponding SQL queries:\\n\\nUser input: Find the total number of Albums.\\nSQL query: SELECT COUNT(DISTINCT AlbumId) FROM Album;\\n\\nUser input: Find all albums for the artist \\'AC/DC\\'.\\nSQL query: SELECT * FROM Album WHERE ArtistId = (SELECT ArtistId FROM Artist WHERE Name = \\'AC/DC\\');'), HumanMessage(content='Find the total number of Albums.'), SystemMessage(content='[]')]\n",
      "Attempt 1: Checking SQL query...\n",
      "Query check successful.\n",
      "Executing SQL query directly...\n",
      "Query executed. Result: [(1, 'For Those About To Rock We Salute You', 1), (4, 'Let There Be Rock', 1)]\n",
      "Final Answer: [(1, 'For Those About To Rock We Salute You', 1), (4, 'Let There Be Rock', 1)]\n"
     ]
    }
   ],
   "source": [
    "# Gradio Interface Setup\n",
    "def respond(message):\n",
    "    \"\"\"\n",
    "    Processes user input and returns a response formatted for the Gradio chatbot interface.\n",
    "\n",
    "    Args:\n",
    "        message (str): The user's message input.\n",
    "\n",
    "    Returns:\n",
    "        list: A list of tuples with the user input and the system response.\n",
    "    \"\"\"\n",
    "    session_id = uuid.uuid4().hex\n",
    "    print(\"Session ID: \", session_id)\n",
    "    print(f\"Received user input: {message}\")\n",
    "    final_answer = process_prompt(message)\n",
    "    formatted_answer = format_output(final_answer)\n",
    "    return [(message, formatted_answer)]\n",
    "\n",
    "# Launch Gradio Interface\n",
    "with gr.Blocks() as demo:\n",
    "    chatbot = gr.Chatbot()\n",
    "    msg = gr.Textbox(label=\"Your Question\", placeholder=\"Ask your database a question...\")\n",
    "    clear = gr.ClearButton([msg, chatbot])\n",
    "\n",
    "    # When the user submits a message, it is processed and the response is displayed\n",
    "    msg.submit(respond, [msg], chatbot)\n",
    "\n",
    "demo.launch(share=True)"
   ]
  }
 ],
 "metadata": {
  "kernelspec": {
   "display_name": "new_env",
   "language": "python",
   "name": "python3"
  },
  "language_info": {
   "codemirror_mode": {
    "name": "ipython",
    "version": 3
   },
   "file_extension": ".py",
   "mimetype": "text/x-python",
   "name": "python",
   "nbconvert_exporter": "python",
   "pygments_lexer": "ipython3",
   "version": "3.9.13"
  },
  "orig_nbformat": 4
 },
 "nbformat": 4,
 "nbformat_minor": 2
}
